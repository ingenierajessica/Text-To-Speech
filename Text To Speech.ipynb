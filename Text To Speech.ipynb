{
 "cells": [
  {
   "cell_type": "markdown",
   "metadata": {},
   "source": [
    "# Texto a Voz (Text to Speech)"
   ]
  },
  {
   "cell_type": "code",
   "execution_count": 2,
   "metadata": {},
   "outputs": [],
   "source": [
    "#!pip install pyttsx3"
   ]
  },
  {
   "cell_type": "code",
   "execution_count": 3,
   "metadata": {},
   "outputs": [],
   "source": [
    "import pyttsx3\n",
    "engine = pyttsx3.init()\n",
    "engine.say(\"Cada que Juan Carlos Iracheta terminaba de dar el reporte del clima, para despedirse recitaba la frase: “Espero que tenga usted un día de intenso calor humano”; y será con esas palabras con las que será recordado este hombre, apasionado de la ciencia y que la llevó a la gente a través de los medios de comunicación por más de 30 años. Nació el 2 de julio de 1947 en la Ciudad de México. Estudió Física en la Universidad Nacional Autónoma de México (UNAM), en 1971 se integró al Servicio Meteorológico Nacional. También trabajó en el Instituto de Investigaciones Forestales y en el Centro de Ciencias de la Atmósfera, además fue director de la carrera de Meteorología en el Instituto Politécnico Nacional (1979 – 1980) y fungió como asesor en protección civil en la Secretaría de Gobernación.\")\n",
    "engine.runAndWait()"
   ]
  },
  {
   "cell_type": "code",
   "execution_count": 3,
   "metadata": {},
   "outputs": [
    {
     "name": "stdout",
     "output_type": "stream",
     "text": [
      "200\n",
      "1.0\n"
     ]
    }
   ],
   "source": [
    "import pyttsx3\n",
    "engine = pyttsx3.init() # object creation\n",
    "\n",
    "\"\"\" RATE\"\"\"\n",
    "rate = engine.getProperty('rate')   # getting details of current speaking rate\n",
    "print (rate)                        #printing current voice rate\n",
    "engine.setProperty('rate', 125)     # setting up new voice rate\n",
    "\n",
    "\n",
    "\"\"\"VOLUME\"\"\"\n",
    "volume = engine.getProperty('volume')   #getting to know current volume level (min=0 and max=1)\n",
    "print (volume)                          #printing current volume level\n",
    "engine.setProperty('volume',1.0)    # setting up volume level  between 0 and 1\n",
    "\n",
    "\"\"\"VOICE\"\"\"\n",
    "voices = engine.getProperty('voices')       #getting details of current voice\n",
    "#engine.setProperty('voice', voices[0].id)  #changing index, changes voices. o for male\n",
    "#engine.setProperty('voice', voices[0].id)   #changing index, changes voices. 1 for female\n",
    "engine.setProperty('voice', 'spanish')\n",
    "engine.say(\"Hello World!\")\n",
    "engine.say('My current speaking rate is ' + str(rate))\n",
    "engine.say(\"Cada que Juan Carlos Iracheta terminaba de dar el reporte del clima, para despedirse recitaba la frase: “Espero que tenga usted un día de intenso calor humano”; y será con esas palabras con las que será recordado este hombre, apasionado de la ciencia y que la llevó a la gente a través de los medios de comunicación por más de 30 años. Nació el 2 de julio de 1947 en la Ciudad de México. Estudió Física en la Universidad Nacional Autónoma de México (UNAM), en 1971 se integró al Servicio Meteorológico Nacional. También trabajó en el Instituto de Investigaciones Forestales y en el Centro de Ciencias de la Atmósfera, además fue director de la carrera de Meteorología en el Instituto Politécnico Nacional (1979 – 1980) y fungió como asesor en protección civil en la Secretaría de Gobernación.\")\n",
    "engine.runAndWait()\n",
    "engine.stop()\n",
    "\n"
   ]
  },
  {
   "cell_type": "code",
   "execution_count": 16,
   "metadata": {},
   "outputs": [],
   "source": [
    "\"\"\"Saving Voice to a file\"\"\"\n",
    "# On linux make sure that 'espeak' and 'ffmpeg' are installed\n",
    "engine.save_to_file('Hello World', 'test.mp3')\n",
    "engine.runAndWait()"
   ]
  },
  {
   "cell_type": "code",
   "execution_count": null,
   "metadata": {},
   "outputs": [],
   "source": [
    "import pyttsx3\n",
    "\n",
    "engine = pyttsx3.init()\n",
    "engine.setProperty('rate', 120)\n",
    "engine.setProperty('voice', 'spanish')\n",
    "engine.setProperty('volume', 0)\n",
    "\n",
    "\n",
    "# It's just a text to speech function..\n",
    "def saySomething(somethingToSay):\n",
    "    engine.say(somethingToSay)\n",
    "    engine.runAndWait()\n",
    "\n",
    "while True:\n",
    "    something = input(\"Something to say? \")\n",
    "    print(\"Saying something with speakers..\")\n",
    "    saySomething(something)"
   ]
  },
  {
   "cell_type": "markdown",
   "metadata": {},
   "source": [
    "# Con librerías de Google"
   ]
  },
  {
   "cell_type": "code",
   "execution_count": 20,
   "metadata": {},
   "outputs": [
    {
     "name": "stdout",
     "output_type": "stream",
     "text": [
      "Collecting gtts\n",
      "  Downloading gTTS-2.2.1-py3-none-any.whl (24 kB)\n",
      "Requirement already satisfied: requests in c:\\users\\jess\\anaconda3\\lib\\site-packages (from gtts) (2.18.4)\n",
      "Requirement already satisfied: six in c:\\users\\jess\\anaconda3\\lib\\site-packages (from gtts) (1.11.0)\n",
      "Requirement already satisfied: click in c:\\users\\jess\\anaconda3\\lib\\site-packages (from gtts) (6.7)\n",
      "Requirement already satisfied: chardet<3.1.0,>=3.0.2 in c:\\users\\jess\\anaconda3\\lib\\site-packages (from requests->gtts) (3.0.4)\n",
      "Requirement already satisfied: idna<2.7,>=2.5 in c:\\users\\jess\\anaconda3\\lib\\site-packages (from requests->gtts) (2.6)\n",
      "Requirement already satisfied: urllib3<1.23,>=1.21.1 in c:\\users\\jess\\anaconda3\\lib\\site-packages (from requests->gtts) (1.22)\n",
      "Requirement already satisfied: certifi>=2017.4.17 in c:\\users\\jess\\anaconda3\\lib\\site-packages (from requests->gtts) (2020.6.20)\n",
      "Installing collected packages: gtts\n",
      "Successfully installed gtts-2.2.1\n"
     ]
    },
    {
     "name": "stderr",
     "output_type": "stream",
     "text": [
      "WARNING: You are using pip version 20.0.2; however, version 21.0 is available.\n",
      "You should consider upgrading via the 'c:\\users\\jess\\anaconda3\\python.exe -m pip install --upgrade pip' command.\n"
     ]
    }
   ],
   "source": [
    "!pip install gtts"
   ]
  },
  {
   "cell_type": "code",
   "execution_count": null,
   "metadata": {},
   "outputs": [
    {
     "name": "stdout",
     "output_type": "stream",
     "text": [
      "Something to say? Sección 3152 Estado Aguascalientes Expediente 37 Resoluciones 28 ABAP 4\n",
      "Saying something with speakers..\n",
      "Something to say? Sección 0451 Estado Durango Expediente 45 Resoluciones 12 ABAP 5\n",
      "Saying something with speakers..\n",
      "Something to say? Sección 3152 Estado Tamaulipas Expediente 37 Resoluciones 28 ABAP 4\n",
      "Saying something with speakers..\n",
      "Something to say? Sección 3152 Estado Hidalgo Expediente 37 Resoluciones 28 ABAP 4\n",
      "Saying something with speakers..\n"
     ]
    }
   ],
   "source": [
    "from gtts import gTTS\n",
    "import os\n",
    "\n",
    "\n",
    "# It's just a text to speech function..\n",
    "def saySomething(somethingToSay):\n",
    "    myobj = gTTS(text=somethingToSay, lang=\"es\", slow=False)\n",
    "    myobj.save(\"somethingToSay.mp3\")\n",
    "    os.system(\"mpg321 somethingToSay.mp3\")\n",
    "\n",
    "\n",
    "while True:\n",
    "    something = input(\"Something to say? \")\n",
    "    print(\"Saying something with speakers..\")\n",
    "    saySomething(something)"
   ]
  },
  {
   "cell_type": "code",
   "execution_count": 19,
   "metadata": {},
   "outputs": [],
   "source": [
    "from gtts import gTTS\n",
    "from io import BytesIO\n",
    "\n",
    "mp3_fp = BytesIO()\n",
    "tts = gTTS('hello', lang='es')\n",
    "tts.write_to_fp(mp3_fp)"
   ]
  }
 ],
 "metadata": {
  "kernelspec": {
   "display_name": "Python 3",
   "language": "python",
   "name": "python3"
  },
  "language_info": {
   "codemirror_mode": {
    "name": "ipython",
    "version": 3
   },
   "file_extension": ".py",
   "mimetype": "text/x-python",
   "name": "python",
   "nbconvert_exporter": "python",
   "pygments_lexer": "ipython3",
   "version": "3.6.5"
  }
 },
 "nbformat": 4,
 "nbformat_minor": 2
}
